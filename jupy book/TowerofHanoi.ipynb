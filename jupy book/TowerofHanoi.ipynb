{
 "cells": [
  {
   "cell_type": "code",
   "execution_count": 1,
   "metadata": {
    "colab": {
     "base_uri": "https://localhost:8080/",
     "height": 188
    },
    "executionInfo": {
     "elapsed": 3101,
     "status": "ok",
     "timestamp": 1602193898064,
     "user": {
      "displayName": "MOHAMMAD BILAL SHAIKH",
      "photoUrl": "https://lh3.googleusercontent.com/a-/AOh14GhI1hOuQm8nhOZ0suxxU7DQJ8YcE-RGjfEKuDYb=s64",
      "userId": "01000845945659947790"
     },
     "user_tz": -330
    },
    "id": "BIRt25toHZDo",
    "outputId": "c0df7356-14f7-446e-b651-831df67f10c3"
   },
   "outputs": [
    {
     "name": "stdout",
     "output_type": "stream",
     "text": [
      "[3, 2, 1] [] []\n",
      "[3, 2] [] [1]\n",
      "[3] [2] [1]\n",
      "[3] [2, 1] []\n",
      "[] [2, 1] [3]\n",
      "[1] [2] [3]\n",
      "[1] [] [3, 2]\n",
      "[] [] [3, 2, 1]\n",
      "7\n"
     ]
    }
   ],
   "source": [
    "def hanoi(n, P1, P2, P3):\n",
    "    \"\"\" Move n discs from pole P1 to pole P3. \"\"\"\n",
    "    if n == 0:\n",
    "        # No more discs to move in this step\n",
    "        return\n",
    " \n",
    "    global count\n",
    "    count += 1\n",
    " \n",
    "    # move n-1 discs from P1 to P2\n",
    "    hanoi(n-1, P1, P3, P2)\n",
    " \n",
    "    if P1:\n",
    "        # move disc from P1 to P3\n",
    "        P3.append(P1.pop())\n",
    "        print(A, B, C)\n",
    " \n",
    "    # move n-1 discs from P2 to P3\n",
    "    hanoi(n-1, P2, P1, P3)\n",
    " \n",
    "# Initialize the poles: all n discs are on pole A.\n",
    "n = 3\n",
    "A = list(range(n,0,-1))\n",
    "B, C = [], []\n",
    " \n",
    "print(A, B, C)\n",
    "count = 0\n",
    "hanoi(n, A, B, C)\n",
    "print(count)"
   ]
  }
 ],
 "metadata": {
  "colab": {
   "authorship_tag": "ABX9TyMRw3urioul3zw5uAoDUc18",
   "collapsed_sections": [],
   "name": "TowerofHanoi.ipynb",
   "provenance": []
  },
  "kernelspec": {
   "display_name": "Python 3",
   "language": "python",
   "name": "python3"
  },
  "language_info": {
   "codemirror_mode": {
    "name": "ipython",
    "version": 3
   },
   "file_extension": ".py",
   "mimetype": "text/x-python",
   "name": "python",
   "nbconvert_exporter": "python",
   "pygments_lexer": "ipython3",
   "version": "3.9.2"
  }
 },
 "nbformat": 4,
 "nbformat_minor": 1
}
