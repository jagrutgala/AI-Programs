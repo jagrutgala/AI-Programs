{
 "cells": [
  {
   "cell_type": "code",
   "execution_count": 6,
   "metadata": {
    "colab": {
     "base_uri": "https://localhost:8080/"
    },
    "executionInfo": {
     "elapsed": 23,
     "status": "ok",
     "timestamp": 1625811180846,
     "user": {
      "displayName": "MOHAMMAD BILAL SHAIKH",
      "photoUrl": "https://lh3.googleusercontent.com/a-/AOh14Gi9x3sPRPOIwuASR7rPUl0sx_ry3yVYGQn4EMsH-Q=s64",
      "userId": "01000845945659947790"
     },
     "user_tz": -330
    },
    "id": "aHFAk_nAD3eP",
    "outputId": "fa6bc3ae-1534-458c-855f-92e1d68b2e72"
   },
   "outputs": [
    {
     "name": "stdout",
     "output_type": "stream",
     "text": [
      "{'A': {'C', 'B'}, 'B': {'A', 'E', 'D'}, 'C': {'A', 'F'}, 'D': {'B'}, 'E': {'F', 'B'}, 'F': {'C', 'E'}}\n"
     ]
    }
   ],
   "source": [
    " \n",
    "graph = {'A': set(['B', 'C']),\n",
    "         'B': set(['A', 'D', 'E']),\n",
    "         'C': set(['A', 'F']),\n",
    "         'D': set(['B']),\n",
    "         'E': set(['B', 'F']),\n",
    "         'F': set(['C', 'E'])}\n",
    "print(graph);"
   ]
  },
  {
   "cell_type": "markdown",
   "metadata": {
    "id": "5yGKq_SVEAMO"
   },
   "source": [
    "Define BFS"
   ]
  },
  {
   "cell_type": "code",
   "execution_count": 9,
   "metadata": {
    "colab": {
     "base_uri": "https://localhost:8080/"
    },
    "executionInfo": {
     "elapsed": 385,
     "status": "ok",
     "timestamp": 1625811481780,
     "user": {
      "displayName": "MOHAMMAD BILAL SHAIKH",
      "photoUrl": "https://lh3.googleusercontent.com/a-/AOh14Gi9x3sPRPOIwuASR7rPUl0sx_ry3yVYGQn4EMsH-Q=s64",
      "userId": "01000845945659947790"
     },
     "user_tz": -330
    },
    "id": "GrpZshVIFaqL",
    "outputId": "35953470-7c97-4c63-8a99-9b8fe26e0708"
   },
   "outputs": [
    {
     "data": {
      "text/plain": [
       "['A', 'C', 'B', 'F', 'E', 'D']"
      ]
     },
     "execution_count": 9,
     "metadata": {
      "tags": []
     },
     "output_type": "execute_result"
    }
   ],
   "source": [
    "def bfs(graph, start):\n",
    "    visited, queue = [], [start] # ✅ Use list\n",
    "    while queue:\n",
    "        vertex = queue.pop(0)\n",
    "        if vertex not in visited:\n",
    "            visited.append(vertex)\n",
    "            queue.extend(graph[vertex] - set(visited)) # ✅ Convert list to set()\n",
    "    return visited\n",
    " \n",
    "bfs(graph, 'A') # ['A', 'C', 'B', 'F', 'D', 'E'] # ✅"
   ]
  },
  {
   "cell_type": "markdown",
   "metadata": {
    "id": "MKNP_m19E1yk"
   },
   "source": [
    "Paths"
   ]
  },
  {
   "cell_type": "code",
   "execution_count": 11,
   "metadata": {
    "colab": {
     "base_uri": "https://localhost:8080/"
    },
    "executionInfo": {
     "elapsed": 383,
     "status": "ok",
     "timestamp": 1625812058072,
     "user": {
      "displayName": "MOHAMMAD BILAL SHAIKH",
      "photoUrl": "https://lh3.googleusercontent.com/a-/AOh14Gi9x3sPRPOIwuASR7rPUl0sx_ry3yVYGQn4EMsH-Q=s64",
      "userId": "01000845945659947790"
     },
     "user_tz": -330
    },
    "id": "-oQEUNgEGgjl",
    "outputId": "452e85ee-5a40-4935-b758-e205992e4cfe"
   },
   "outputs": [
    {
     "data": {
      "text/plain": [
       "[['A', 'C', 'F'], ['A', 'B', 'E', 'F']]"
      ]
     },
     "execution_count": 11,
     "metadata": {
      "tags": []
     },
     "output_type": "execute_result"
    }
   ],
   "source": [
    "def bfs_paths(graph, start, goal):\n",
    "    queue = [(start, [start])]\n",
    "    while queue:\n",
    "        (vertex, path) = queue.pop(0)\n",
    "        for next in graph[vertex] - set(path):\n",
    "            if next == goal:\n",
    "                yield path + [next]\n",
    "            else:\n",
    "                queue.append((next, path + [next]))\n",
    " \n",
    "list(bfs_paths(graph, 'A', 'F')) # [['A', 'C', 'F'], ['A', 'B', 'E', 'F']]"
   ]
  },
  {
   "cell_type": "markdown",
   "metadata": {
    "id": "L9s8qFlnGjxY"
   },
   "source": [
    "Shortest path"
   ]
  },
  {
   "cell_type": "code",
   "execution_count": 17,
   "metadata": {
    "colab": {
     "base_uri": "https://localhost:8080/"
    },
    "executionInfo": {
     "elapsed": 387,
     "status": "ok",
     "timestamp": 1625812447936,
     "user": {
      "displayName": "MOHAMMAD BILAL SHAIKH",
      "photoUrl": "https://lh3.googleusercontent.com/a-/AOh14Gi9x3sPRPOIwuASR7rPUl0sx_ry3yVYGQn4EMsH-Q=s64",
      "userId": "01000845945659947790"
     },
     "user_tz": -330
    },
    "id": "b_J2rMpiGltP",
    "outputId": "3077e2ca-51f8-4e55-f5b0-abfbe5b20a4b"
   },
   "outputs": [
    {
     "data": {
      "text/plain": [
       "['A', 'C', 'F']"
      ]
     },
     "execution_count": 17,
     "metadata": {
      "tags": []
     },
     "output_type": "execute_result"
    }
   ],
   "source": [
    "def shortest_path(graph, start, goal):\n",
    "    try:\n",
    "        return next(bfs_paths(graph, start, goal))\n",
    "    except StopIteration:\n",
    "        return None\n",
    " \n",
    "shortest_path(graph, 'A', 'F') # ['A', 'C', 'F']"
   ]
  }
 ],
 "metadata": {
  "colab": {
   "authorship_tag": "ABX9TyN+yUo8vpk63MBn64zff6rV",
   "name": "2. BFS & Shortest Path.ipynb",
   "provenance": [
    {
     "file_id": "1jB_-LKWX8h8fYc04diWjA4qLX3iTgeJe",
     "timestamp": 1602192369704
    }
   ]
  },
  "kernelspec": {
   "display_name": "Python 3",
   "language": "python",
   "name": "python3"
  },
  "language_info": {
   "codemirror_mode": {
    "name": "ipython",
    "version": 3
   },
   "file_extension": ".py",
   "mimetype": "text/x-python",
   "name": "python",
   "nbconvert_exporter": "python",
   "pygments_lexer": "ipython3",
   "version": "3.9.2"
  }
 },
 "nbformat": 4,
 "nbformat_minor": 1
}
