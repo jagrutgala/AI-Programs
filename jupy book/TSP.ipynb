{
 "cells": [
  {
   "cell_type": "markdown",
   "metadata": {
    "id": "7CFROS8vt1IF"
   },
   "source": [
    "Travelling Salesman Problem (TSP) : Given a set of cities and distances between every pair of cities, the problem is to find the shortest possible route that visits every city exactly once and returns to the starting point. \n",
    "Note the difference between Hamiltonian Cycle and TSP. The Hamiltonian cycle problem is to find if there exists a tour that visits every city exactly once. Here we know that Hamiltonian Tour exists (because the graph is complete) and in fact, many such tours exist, the problem is to find a minimum weight Hamiltonian Cycle. \n",
    "For example, consider the graph shown in the figure on the right side. A TSP tour in the graph is 1-2-4-3-1. The cost of the tour is 10+25+30+15 which is 80.\n",
    "The problem is a famous NP-hard problem. There is no polynomial-time known solution for this problem. \n",
    " \n",
    " \n",
    " \n",
    " \n",
    " \n",
    "Examples: \n",
    " \n",
    "Output of Given Graph:\n",
    "minimum weight Hamiltonian Cycle :\n",
    "10 + 25 + 30 + 15 := 80"
   ]
  },
  {
   "cell_type": "markdown",
   "metadata": {
    "id": "QHHsiFuHt767"
   },
   "source": [
    "Consider city 1 as the starting and ending point. Since the route is cyclic, we can consider any point as a starting point.\n",
    "Generate all (n-1)! permutations of cities.\n",
    "Calculate the cost of every permutation and keep track of minimum cost permutation.\n",
    "Return the permutation with minimum cost."
   ]
  },
  {
   "cell_type": "code",
   "execution_count": 1,
   "metadata": {
    "colab": {
     "base_uri": "https://localhost:8080/",
     "height": 36
    },
    "executionInfo": {
     "elapsed": 1498,
     "status": "ok",
     "timestamp": 1602537958291,
     "user": {
      "displayName": "MOHAMMAD BILAL SHAIKH",
      "photoUrl": "https://lh3.googleusercontent.com/a-/AOh14GhI1hOuQm8nhOZ0suxxU7DQJ8YcE-RGjfEKuDYb=s64",
      "userId": "01000845945659947790"
     },
     "user_tz": -330
    },
    "id": "eiyXe9iytC70",
    "outputId": "523ef72f-30c0-4dc0-f41b-16c709be1b99"
   },
   "outputs": [
    {
     "name": "stdout",
     "output_type": "stream",
     "text": [
      "80\n"
     ]
    }
   ],
   "source": [
    "# Python3 program to implement traveling salesman \n",
    "# problem using naive approach. \n",
    " \n",
    "from sys import maxsize \n",
    " \n",
    "from itertools import permutations\n",
    " \n",
    "V = 4\n",
    " \n",
    "# implementation of traveling Salesman Problem \n",
    " \n",
    "def travellingSalesmanProblem(graph, s): \n",
    " \n",
    " \n",
    "    # store all vertex apart from source vertex \n",
    " \n",
    "    vertex = [] \n",
    " \n",
    "    for i in range(V): \n",
    " \n",
    "        if i != s: \n",
    " \n",
    "            vertex.append(i) \n",
    " \n",
    " \n",
    "    # store minimum weight Hamiltonian Cycle \n",
    " \n",
    "    min_path = maxsize \n",
    " \n",
    "    next_permutation=permutations(vertex)\n",
    " \n",
    "    for i in next_permutation:\n",
    " \n",
    " \n",
    "        # store current Path weight(cost) \n",
    " \n",
    "        current_pathweight = 0\n",
    " \n",
    " \n",
    "        # compute current path weight \n",
    " \n",
    "        k = s \n",
    " \n",
    "        for j in i: \n",
    " \n",
    "            current_pathweight += graph[k][j] \n",
    " \n",
    "            k = j \n",
    " \n",
    "        current_pathweight += graph[k][s] \n",
    " \n",
    " \n",
    "        # update minimum \n",
    " \n",
    "        min_path = min(min_path, current_pathweight) \n",
    " \n",
    "         \n",
    " \n",
    "    return min_path \n",
    " \n",
    " \n",
    "# Driver Code \n",
    " \n",
    "if __name__ == \"__main__\": \n",
    " \n",
    " \n",
    "    # matrix representation of graph \n",
    " \n",
    "    graph = [[0, 10, 15, 20], [10, 0, 35, 25], \n",
    " \n",
    "            [15, 35, 0, 30], [20, 25, 30, 0]] \n",
    " \n",
    "    s = 0\n",
    " \n",
    "    print(travellingSalesmanProblem(graph, s))"
   ]
  }
 ],
 "metadata": {
  "colab": {
   "authorship_tag": "ABX9TyNNUUt6gBHSsxBoTuqKTyJ8",
   "collapsed_sections": [],
   "name": "TSP.ipynb",
   "provenance": []
  },
  "kernelspec": {
   "display_name": "Python 3",
   "language": "python",
   "name": "python3"
  },
  "language_info": {
   "codemirror_mode": {
    "name": "ipython",
    "version": 3
   },
   "file_extension": ".py",
   "mimetype": "text/x-python",
   "name": "python",
   "nbconvert_exporter": "python",
   "pygments_lexer": "ipython3",
   "version": "3.9.2"
  }
 },
 "nbformat": 4,
 "nbformat_minor": 1
}
