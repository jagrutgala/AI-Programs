{
 "cells": [
  {
   "cell_type": "markdown",
   "metadata": {
    "id": "XiLxSWAFv8Ct"
   },
   "source": [
    "Create Graph for DFS"
   ]
  },
  {
   "cell_type": "code",
   "execution_count": null,
   "metadata": {
    "id": "yZ_X8ntEBq5y"
   },
   "outputs": [],
   "source": [
    "graph = {'A': set(['B', 'C']),\n",
    "         'B': set(['A', 'D', 'E']),\n",
    "         'C': set(['A', 'F']),\n",
    "         'D': set(['B']),\n",
    "         'E': set(['B', 'F']),\n",
    "         'F': set(['C', 'E'])}"
   ]
  },
  {
   "cell_type": "markdown",
   "metadata": {
    "id": "Q8vbR1HYB0eR"
   },
   "source": [
    "Define DFS"
   ]
  },
  {
   "cell_type": "code",
   "execution_count": null,
   "metadata": {
    "colab": {
     "base_uri": "https://localhost:8080/"
    },
    "executionInfo": {
     "elapsed": 35,
     "status": "ok",
     "timestamp": 1625733518503,
     "user": {
      "displayName": "MOHAMMAD BILAL SHAIKH",
      "photoUrl": "https://lh3.googleusercontent.com/a-/AOh14Gi9x3sPRPOIwuASR7rPUl0sx_ry3yVYGQn4EMsH-Q=s64",
      "userId": "01000845945659947790"
     },
     "user_tz": -330
    },
    "id": "FNDpJhouC7TC",
    "outputId": "07dd9d59-3dd4-4f21-a5bd-d6525ae55cab"
   },
   "outputs": [
    {
     "data": {
      "text/plain": [
       "['B', 'D', 'E', 'F', 'C', 'A']"
      ]
     },
     "execution_count": 4,
     "metadata": {
      "tags": []
     },
     "output_type": "execute_result"
    }
   ],
   "source": [
    " def dfs(graph, start):\n",
    "    visited, stack = [], [start] # ✅ Use stack \n",
    "    while stack:\n",
    "        vertex = stack.pop()\n",
    "        if vertex not in visited:\n",
    "            visited.append(vertex)\n",
    "            stack.extend(graph[vertex] - set(visited)) # ✅ Convert to set()\n",
    "    return visited\n",
    " \n",
    "dfs(graph, 'B')"
   ]
  }
 ],
 "metadata": {
  "colab": {
   "name": "1. DFS.ipynb",
   "provenance": []
  },
  "kernelspec": {
   "display_name": "Python 3",
   "language": "python",
   "name": "python3"
  },
  "language_info": {
   "codemirror_mode": {
    "name": "ipython",
    "version": 3
   },
   "file_extension": ".py",
   "mimetype": "text/x-python",
   "name": "python",
   "nbconvert_exporter": "python",
   "pygments_lexer": "ipython3",
   "version": "3.9.2"
  }
 },
 "nbformat": 4,
 "nbformat_minor": 1
}
